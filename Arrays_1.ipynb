{
  "nbformat": 4,
  "nbformat_minor": 0,
  "metadata": {
    "kernelspec": {
      "display_name": "Python 3",
      "language": "python",
      "name": "python3"
    },
    "language_info": {
      "codemirror_mode": {
        "name": "ipython",
        "version": 3
      },
      "file_extension": ".py",
      "mimetype": "text/x-python",
      "name": "python",
      "nbconvert_exporter": "python",
      "pygments_lexer": "ipython3",
      "version": "3.8.3"
    },
    "colab": {
      "name": "Arrays 1.ipynb",
      "provenance": []
    }
  },
  "cells": [
    {
      "cell_type": "code",
      "metadata": {
        "id": "uejMyTPD0_vq"
      },
      "source": [
        "import numpy as np"
      ],
      "execution_count": null,
      "outputs": []
    },
    {
      "cell_type": "code",
      "metadata": {
        "id": "EiDc_puI0_vv"
      },
      "source": [
        "1. A list is a collection of values\n",
        "2. Inorder to create a list, the collection of values, need to be surrounded by square brackets\n",
        "3. In the collection, we can have any number of values. However, if you have multiple values(more than 1) in the collection, then those values need to separated by a comma.\n",
        "4. A list can contain any types of values\n",
        "5. All the values in the list, have 2 indexes (positive, negative) associated with it"
      ],
      "execution_count": null,
      "outputs": []
    },
    {
      "cell_type": "markdown",
      "metadata": {
        "id": "cxMNHm-S0_vw"
      },
      "source": [
        "Array\n",
        "1. A Array is a collection of values\n",
        "2. Inorder to create a array, the collection of values, need to be surrounded by square or curved brackets\n",
        "3. In the collection, we can have any number of values. However, if you have multiple values(more than 1) in the collection, then those values need to separated by a comma.\n",
        "4. A Array can contain a single type of a value. If you store values of different types, then those values will be converted to the same type. THis type conversion will only apply when all the values are of primitive types\n",
        "5. All the values in the array, have 2 indexes (positive, negative) associated with it"
      ]
    },
    {
      "cell_type": "code",
      "metadata": {
        "id": "8sz91_wR0_vx"
      },
      "source": [
        "a=np.array((11,22,33))"
      ],
      "execution_count": null,
      "outputs": []
    },
    {
      "cell_type": "code",
      "metadata": {
        "id": "_9aGJqcb0_vx",
        "outputId": "a4b462c8-8900-4b9a-e77c-f7dfe4a8a06a"
      },
      "source": [
        "type(a)"
      ],
      "execution_count": null,
      "outputs": [
        {
          "output_type": "execute_result",
          "data": {
            "text/plain": [
              "numpy.ndarray"
            ]
          },
          "metadata": {
            "tags": []
          },
          "execution_count": 3
        }
      ]
    },
    {
      "cell_type": "code",
      "metadata": {
        "id": "qyPjuC6F0_vy",
        "outputId": "d8714974-6016-423c-a9cd-5405cb06ab2f"
      },
      "source": [
        "len(a)"
      ],
      "execution_count": null,
      "outputs": [
        {
          "output_type": "execute_result",
          "data": {
            "text/plain": [
              "3"
            ]
          },
          "metadata": {
            "tags": []
          },
          "execution_count": 4
        }
      ]
    },
    {
      "cell_type": "code",
      "metadata": {
        "id": "EP4aHPSy0_vz"
      },
      "source": [
        "a=np.array([11,22,33])"
      ],
      "execution_count": null,
      "outputs": []
    },
    {
      "cell_type": "code",
      "metadata": {
        "id": "EC5TiaFn0_vz",
        "outputId": "1c9be35e-6c4e-4097-b8a3-17e8682576d1"
      },
      "source": [
        "type(a)"
      ],
      "execution_count": null,
      "outputs": [
        {
          "output_type": "execute_result",
          "data": {
            "text/plain": [
              "numpy.ndarray"
            ]
          },
          "metadata": {
            "tags": []
          },
          "execution_count": 6
        }
      ]
    },
    {
      "cell_type": "code",
      "metadata": {
        "id": "H-cW6eep0_v0",
        "outputId": "8a7d644d-1608-4828-d435-f0b5b73675c7"
      },
      "source": [
        "len(a)"
      ],
      "execution_count": null,
      "outputs": [
        {
          "output_type": "execute_result",
          "data": {
            "text/plain": [
              "3"
            ]
          },
          "metadata": {
            "tags": []
          },
          "execution_count": 7
        }
      ]
    },
    {
      "cell_type": "code",
      "metadata": {
        "id": "En68tK3W0_v0"
      },
      "source": [
        "b=np.array([4,67.8])"
      ],
      "execution_count": null,
      "outputs": []
    },
    {
      "cell_type": "code",
      "metadata": {
        "id": "HzZO9HPb0_v0",
        "outputId": "4a858bdd-c27f-4a67-faad-45ece0de00ed"
      },
      "source": [
        "type(b)"
      ],
      "execution_count": null,
      "outputs": [
        {
          "output_type": "execute_result",
          "data": {
            "text/plain": [
              "numpy.ndarray"
            ]
          },
          "metadata": {
            "tags": []
          },
          "execution_count": 9
        }
      ]
    },
    {
      "cell_type": "code",
      "metadata": {
        "id": "lV1WuwCA0_v1",
        "outputId": "e4ffad62-c1d0-4779-cf28-9596fc8bb08b"
      },
      "source": [
        "b"
      ],
      "execution_count": null,
      "outputs": [
        {
          "output_type": "execute_result",
          "data": {
            "text/plain": [
              "array([ 4. , 67.8])"
            ]
          },
          "metadata": {
            "tags": []
          },
          "execution_count": 10
        }
      ]
    },
    {
      "cell_type": "code",
      "metadata": {
        "id": "pe5RfvI_0_v1"
      },
      "source": [
        "c=np.array([56,89.0,\"abc\"])"
      ],
      "execution_count": null,
      "outputs": []
    },
    {
      "cell_type": "code",
      "metadata": {
        "id": "Ae1AZnlL0_v1",
        "outputId": "fdd70e06-bb63-42ab-b0ef-a30000339a55"
      },
      "source": [
        "type(c)"
      ],
      "execution_count": null,
      "outputs": [
        {
          "output_type": "execute_result",
          "data": {
            "text/plain": [
              "numpy.ndarray"
            ]
          },
          "metadata": {
            "tags": []
          },
          "execution_count": 12
        }
      ]
    },
    {
      "cell_type": "code",
      "metadata": {
        "id": "-kHFaPdG0_v1",
        "outputId": "071515d5-8263-44c0-8ca7-a71f9d01eebe"
      },
      "source": [
        "c"
      ],
      "execution_count": null,
      "outputs": [
        {
          "output_type": "execute_result",
          "data": {
            "text/plain": [
              "array(['56', '89.0', 'abc'], dtype='<U32')"
            ]
          },
          "metadata": {
            "tags": []
          },
          "execution_count": 13
        }
      ]
    },
    {
      "cell_type": "code",
      "metadata": {
        "id": "WD63FH1D0_v2"
      },
      "source": [
        "d=np.array([True, 89.8])"
      ],
      "execution_count": null,
      "outputs": []
    },
    {
      "cell_type": "code",
      "metadata": {
        "id": "p7MFygrs0_v2",
        "outputId": "9f289cf3-c8ad-427c-fbfc-3940248e6065"
      },
      "source": [
        "type(d)"
      ],
      "execution_count": null,
      "outputs": [
        {
          "output_type": "execute_result",
          "data": {
            "text/plain": [
              "numpy.ndarray"
            ]
          },
          "metadata": {
            "tags": []
          },
          "execution_count": 15
        }
      ]
    },
    {
      "cell_type": "code",
      "metadata": {
        "id": "FSNaO_NN0_v2",
        "outputId": "8ab1fda4-0916-4116-c430-bed0bf885217"
      },
      "source": [
        "d"
      ],
      "execution_count": null,
      "outputs": [
        {
          "output_type": "execute_result",
          "data": {
            "text/plain": [
              "array([ 1. , 89.8])"
            ]
          },
          "metadata": {
            "tags": []
          },
          "execution_count": 16
        }
      ]
    },
    {
      "cell_type": "code",
      "metadata": {
        "id": "9b04lnqu0_v2"
      },
      "source": [
        "e=np.array([4,78.0,[1,2,3]])"
      ],
      "execution_count": null,
      "outputs": []
    },
    {
      "cell_type": "code",
      "metadata": {
        "id": "qjw_ZTxk0_v3",
        "outputId": "795b2d98-596b-4c84-c1bc-07d7d9b451cf"
      },
      "source": [
        "type(e)"
      ],
      "execution_count": null,
      "outputs": [
        {
          "output_type": "execute_result",
          "data": {
            "text/plain": [
              "numpy.ndarray"
            ]
          },
          "metadata": {
            "tags": []
          },
          "execution_count": 18
        }
      ]
    },
    {
      "cell_type": "code",
      "metadata": {
        "id": "YaOV14AW0_v3",
        "outputId": "6acbf12d-bf3b-44f8-9d78-bf967a3f4104"
      },
      "source": [
        "len(e)"
      ],
      "execution_count": null,
      "outputs": [
        {
          "output_type": "execute_result",
          "data": {
            "text/plain": [
              "3"
            ]
          },
          "metadata": {
            "tags": []
          },
          "execution_count": 19
        }
      ]
    },
    {
      "cell_type": "code",
      "metadata": {
        "id": "erLUMntn0_v3",
        "outputId": "87b8b877-88fe-4501-d475-eead471828e5"
      },
      "source": [
        "e"
      ],
      "execution_count": null,
      "outputs": [
        {
          "output_type": "execute_result",
          "data": {
            "text/plain": [
              "array([4, 78.0, list([1, 2, 3])], dtype=object)"
            ]
          },
          "metadata": {
            "tags": []
          },
          "execution_count": 20
        }
      ]
    },
    {
      "cell_type": "code",
      "metadata": {
        "id": "kGXktTlc0_v3"
      },
      "source": [
        "a=np.array([11,22,33,44,55])"
      ],
      "execution_count": null,
      "outputs": []
    },
    {
      "cell_type": "markdown",
      "metadata": {
        "id": "lgRvXFx00_v4"
      },
      "source": [
        "# subset values in a array"
      ]
    },
    {
      "cell_type": "code",
      "metadata": {
        "id": "iRKGfvPC0_v4",
        "outputId": "d275a5de-b348-4b41-d9a4-42f5cd2bc9a4"
      },
      "source": [
        "a"
      ],
      "execution_count": null,
      "outputs": [
        {
          "output_type": "execute_result",
          "data": {
            "text/plain": [
              "array([11, 22, 33, 44, 55])"
            ]
          },
          "metadata": {
            "tags": []
          },
          "execution_count": 22
        }
      ]
    },
    {
      "cell_type": "code",
      "metadata": {
        "id": "RQdoGBpi0_v4"
      },
      "source": [
        "syntax for list---- listReference[index]\n",
        "\n",
        "syntax for array--- arrayReference[index]"
      ],
      "execution_count": null,
      "outputs": []
    },
    {
      "cell_type": "code",
      "metadata": {
        "id": "B79tIokI0_v4",
        "outputId": "4a54035a-4cfe-482d-8c9b-0dbc52b57c3a"
      },
      "source": [
        "a[2]"
      ],
      "execution_count": null,
      "outputs": [
        {
          "output_type": "execute_result",
          "data": {
            "text/plain": [
              "33"
            ]
          },
          "metadata": {
            "tags": []
          },
          "execution_count": 23
        }
      ]
    },
    {
      "cell_type": "code",
      "metadata": {
        "id": "B1ygqQki0_v5",
        "outputId": "de7a1caf-32e3-424a-ed3b-3fedf9ca277c"
      },
      "source": [
        "a[-3]"
      ],
      "execution_count": null,
      "outputs": [
        {
          "output_type": "execute_result",
          "data": {
            "text/plain": [
              "33"
            ]
          },
          "metadata": {
            "tags": []
          },
          "execution_count": 24
        }
      ]
    },
    {
      "cell_type": "code",
      "metadata": {
        "id": "eMuXpy3R0_v5",
        "outputId": "29a48cf9-4d26-42be-820b-dfa6fcc8190d"
      },
      "source": [
        "a[3]"
      ],
      "execution_count": null,
      "outputs": [
        {
          "output_type": "execute_result",
          "data": {
            "text/plain": [
              "44"
            ]
          },
          "metadata": {
            "tags": []
          },
          "execution_count": 25
        }
      ]
    },
    {
      "cell_type": "code",
      "metadata": {
        "id": "fM1ZQ4ym0_v5",
        "outputId": "3a7faa30-6b84-49d7-9b2b-5c2a72b15db8"
      },
      "source": [
        "a[-2]"
      ],
      "execution_count": null,
      "outputs": [
        {
          "output_type": "execute_result",
          "data": {
            "text/plain": [
              "44"
            ]
          },
          "metadata": {
            "tags": []
          },
          "execution_count": 26
        }
      ]
    },
    {
      "cell_type": "code",
      "metadata": {
        "id": "_oy872lG0_v5",
        "outputId": "f5312d47-d8a0-40f7-e003-e5ef43ae2aed"
      },
      "source": [
        "a[[0,4]]"
      ],
      "execution_count": null,
      "outputs": [
        {
          "output_type": "execute_result",
          "data": {
            "text/plain": [
              "array([11, 55])"
            ]
          },
          "metadata": {
            "tags": []
          },
          "execution_count": 27
        }
      ]
    },
    {
      "cell_type": "code",
      "metadata": {
        "id": "-D3DjAAp0_v6",
        "outputId": "aff72f42-e383-47f4-b427-5807de0776d6"
      },
      "source": [
        "a[[0,-1]]"
      ],
      "execution_count": null,
      "outputs": [
        {
          "output_type": "execute_result",
          "data": {
            "text/plain": [
              "array([11, 55])"
            ]
          },
          "metadata": {
            "tags": []
          },
          "execution_count": 28
        }
      ]
    },
    {
      "cell_type": "code",
      "metadata": {
        "id": "_2Lfy9aZ0_v6"
      },
      "source": [
        "syntax for array--- arrayReference[index]"
      ],
      "execution_count": null,
      "outputs": []
    },
    {
      "cell_type": "code",
      "metadata": {
        "id": "grKD4fwo0_v6",
        "outputId": "08a98981-9139-484a-fca4-f06e8dc1321a"
      },
      "source": [
        "a[[1,3]]"
      ],
      "execution_count": null,
      "outputs": [
        {
          "output_type": "execute_result",
          "data": {
            "text/plain": [
              "array([22, 44])"
            ]
          },
          "metadata": {
            "tags": []
          },
          "execution_count": 29
        }
      ]
    },
    {
      "cell_type": "code",
      "metadata": {
        "id": "dgRjgt5H0_v6",
        "outputId": "aca835d8-557a-411c-c34f-ff13063e6474"
      },
      "source": [
        "a[[0,1,2,3,4]]"
      ],
      "execution_count": null,
      "outputs": [
        {
          "output_type": "execute_result",
          "data": {
            "text/plain": [
              "array([11, 22, 33, 44, 55])"
            ]
          },
          "metadata": {
            "tags": []
          },
          "execution_count": 30
        }
      ]
    },
    {
      "cell_type": "markdown",
      "metadata": {
        "id": "sq9W5m3g0_v7"
      },
      "source": [
        "1. When we want to get multiple consecutive values from a list, we will have to use slicing.\n",
        "2. When we want to use slicing with indexes, then the value at the firstSpecifiedIndex is included, while the value at the last specified index is not included. SLicing will only include values uptil the index, that is previous to the LastSpecifiedIndex, that is closest to the lastSpecified index, and also it should be within the array\n",
        "3. If we leave out the FirstSpecifiedIndex, then python will assume that you want to start from the beginning. On the other hand, if you leave out the LastSpecifiedIndex, then python will assume that you want to go uptil the end"
      ]
    },
    {
      "cell_type": "code",
      "metadata": {
        "id": "DODyS4S50_v7"
      },
      "source": [
        "syntax for slicing a list---- listReference[FirstSpecifiedIndex:LastSpecifiedIndex]\n",
        "\n",
        "syntax for slicing a array---- arrayReference[FirstSpecifiedIndex:LastSpecifiedIndex]"
      ],
      "execution_count": null,
      "outputs": []
    },
    {
      "cell_type": "code",
      "metadata": {
        "id": "HukMiNO10_v7",
        "outputId": "bfd835a3-a41e-4fd5-f96a-c7987e2540fd"
      },
      "source": [
        "a"
      ],
      "execution_count": null,
      "outputs": [
        {
          "output_type": "execute_result",
          "data": {
            "text/plain": [
              "array([11, 22, 33, 44, 55])"
            ]
          },
          "metadata": {
            "tags": []
          },
          "execution_count": 31
        }
      ]
    },
    {
      "cell_type": "code",
      "metadata": {
        "id": "F_s6CIG60_v7",
        "outputId": "12838a6d-e734-419a-a152-fd346aea1a2d"
      },
      "source": [
        "a[0:]"
      ],
      "execution_count": null,
      "outputs": [
        {
          "output_type": "execute_result",
          "data": {
            "text/plain": [
              "array([11, 22, 33, 44, 55])"
            ]
          },
          "metadata": {
            "tags": []
          },
          "execution_count": 32
        }
      ]
    },
    {
      "cell_type": "code",
      "metadata": {
        "id": "bWVYxKB90_v8",
        "outputId": "6ad92fc9-47d5-4ad4-dbaf-442776761ba4"
      },
      "source": [
        "a"
      ],
      "execution_count": null,
      "outputs": [
        {
          "output_type": "execute_result",
          "data": {
            "text/plain": [
              "array([11, 22, 33, 44, 55])"
            ]
          },
          "metadata": {
            "tags": []
          },
          "execution_count": 33
        }
      ]
    },
    {
      "cell_type": "code",
      "metadata": {
        "id": "sYX0Tuln0_v8",
        "outputId": "e0dc713e-25c4-480b-8f74-4221a019d621"
      },
      "source": [
        "a[0:3]"
      ],
      "execution_count": null,
      "outputs": [
        {
          "output_type": "execute_result",
          "data": {
            "text/plain": [
              "array([11, 22, 33])"
            ]
          },
          "metadata": {
            "tags": []
          },
          "execution_count": 34
        }
      ]
    },
    {
      "cell_type": "markdown",
      "metadata": {
        "id": "n7bHX4sM0_v8"
      },
      "source": [
        "Similarities:\n",
        "1. A list is a collection of values, just like that a array is also a collection of values\n",
        "2. A list can contain any number of values, just like that a array can also contain any number of values\n",
        "\n",
        "Difference:\n",
        "1. A list can contain any type of a value, whereas a array can only contain a single type of a value\n",
        "2. You cannot do mathemtical operations on the values stored inside of a list, whereas you can do mathematical operations on the values stored inside of a array"
      ]
    },
    {
      "cell_type": "code",
      "metadata": {
        "id": "pzpj1_GD0_v8",
        "outputId": "dc6eeac7-a801-4e65-ab29-d8ddbb71fad4"
      },
      "source": [
        "[1,2,3] + [4,5,6]"
      ],
      "execution_count": null,
      "outputs": [
        {
          "output_type": "execute_result",
          "data": {
            "text/plain": [
              "[1, 2, 3, 4, 5, 6]"
            ]
          },
          "metadata": {
            "tags": []
          },
          "execution_count": 35
        }
      ]
    },
    {
      "cell_type": "code",
      "metadata": {
        "id": "_9I2N88B0_v9"
      },
      "source": [
        "[1,2,3] * [4,5,6]"
      ],
      "execution_count": null,
      "outputs": []
    },
    {
      "cell_type": "code",
      "metadata": {
        "id": "RPj2Gu5V0_v9",
        "outputId": "5a557cc7-a7ec-46e3-d698-0ca266d5bad7"
      },
      "source": [
        "np.array([1,2,3]) + np.array([4,5,6])"
      ],
      "execution_count": null,
      "outputs": [
        {
          "output_type": "execute_result",
          "data": {
            "text/plain": [
              "array([5, 7, 9])"
            ]
          },
          "metadata": {
            "tags": []
          },
          "execution_count": 36
        }
      ]
    },
    {
      "cell_type": "code",
      "metadata": {
        "id": "EcjOwVX30_v9",
        "outputId": "2064f741-1bd5-4eea-80bb-88489ca05a5e"
      },
      "source": [
        "np.array([1,2,3]) * np.array([4,5,6])"
      ],
      "execution_count": null,
      "outputs": [
        {
          "output_type": "execute_result",
          "data": {
            "text/plain": [
              "array([ 4, 10, 18])"
            ]
          },
          "metadata": {
            "tags": []
          },
          "execution_count": 38
        }
      ]
    },
    {
      "cell_type": "code",
      "metadata": {
        "id": "hYlvXE430_v9"
      },
      "source": [
        "a=np.array([11,22,33,44])"
      ],
      "execution_count": null,
      "outputs": []
    },
    {
      "cell_type": "code",
      "metadata": {
        "id": "6niIuwfE0_v9"
      },
      "source": [
        "syntax for array--- arrayReference[index]"
      ],
      "execution_count": null,
      "outputs": []
    },
    {
      "cell_type": "code",
      "metadata": {
        "id": "cMDepkVA0_v-",
        "outputId": "c5b2861b-7ba6-434c-da8d-124d1e34b23e"
      },
      "source": [
        "a[2]"
      ],
      "execution_count": null,
      "outputs": [
        {
          "output_type": "execute_result",
          "data": {
            "text/plain": [
              "33"
            ]
          },
          "metadata": {
            "tags": []
          },
          "execution_count": 3
        }
      ]
    },
    {
      "cell_type": "code",
      "metadata": {
        "id": "ptTevtNm0_v-",
        "outputId": "7cb731a2-8db4-4a78-a100-e72d251497ea"
      },
      "source": [
        "a[-2]"
      ],
      "execution_count": null,
      "outputs": [
        {
          "output_type": "execute_result",
          "data": {
            "text/plain": [
              "33"
            ]
          },
          "metadata": {
            "tags": []
          },
          "execution_count": 4
        }
      ]
    },
    {
      "cell_type": "code",
      "metadata": {
        "id": "aWBpYIMb0_v-",
        "outputId": "4fe89b72-9c14-4398-e99b-dac41b4d7845"
      },
      "source": [
        "a[[1,3]]"
      ],
      "execution_count": null,
      "outputs": [
        {
          "output_type": "execute_result",
          "data": {
            "text/plain": [
              "array([22, 44])"
            ]
          },
          "metadata": {
            "tags": []
          },
          "execution_count": 5
        }
      ]
    },
    {
      "cell_type": "code",
      "metadata": {
        "id": "CoaHzuRd0_v-",
        "outputId": "c42f5e86-0afd-47b1-c134-b8022d8d662d"
      },
      "source": [
        "a[[2]]"
      ],
      "execution_count": null,
      "outputs": [
        {
          "output_type": "execute_result",
          "data": {
            "text/plain": [
              "array([33])"
            ]
          },
          "metadata": {
            "tags": []
          },
          "execution_count": 6
        }
      ]
    },
    {
      "cell_type": "markdown",
      "metadata": {
        "id": "N5bJNUT_0_v_"
      },
      "source": [
        "1. When we want to get multiple consecutive values from a list, we will have to use slicing.\n",
        "2. When we want to use slicing with indexes, then the value at the firstSpecifiedIndex is included, while the value at the last specified index is not included. SLicing will only include values uptil the index, that is previous to the LastSpecifiedIndex, that is closest to the lastSpecified index, and also it should be within the array\n",
        "3. If we leave out the FirstSpecifiedIndex, then python will assume that you want to start from the beginning. On the other hand, if you leave out the LastSpecifiedIndex, then python will assume that you want to go uptil the end"
      ]
    },
    {
      "cell_type": "code",
      "metadata": {
        "id": "SMiinDjR0_v_"
      },
      "source": [
        "syntax for slicing a list---- listReference[FirstSpecifiedIndex:LastSpecifiedIndex]\n",
        "\n",
        "syntax for slicing a array---- arrayReference[FirstSpecifiedIndex:LastSpecifiedIndex]"
      ],
      "execution_count": null,
      "outputs": []
    },
    {
      "cell_type": "code",
      "metadata": {
        "id": "gQwtRrnS0_v_",
        "outputId": "a8974e2f-3195-400a-fe25-14c40c62c325"
      },
      "source": [
        "a[0:2]"
      ],
      "execution_count": null,
      "outputs": [
        {
          "output_type": "execute_result",
          "data": {
            "text/plain": [
              "array([11, 22])"
            ]
          },
          "metadata": {
            "tags": []
          },
          "execution_count": 7
        }
      ]
    },
    {
      "cell_type": "code",
      "metadata": {
        "id": "lyjg-MCy0_v_",
        "outputId": "f4e66a3c-b3cf-4e21-b854-6f3d2c15b2b6"
      },
      "source": [
        "a[0:3]"
      ],
      "execution_count": null,
      "outputs": [
        {
          "output_type": "execute_result",
          "data": {
            "text/plain": [
              "array([11, 22, 33])"
            ]
          },
          "metadata": {
            "tags": []
          },
          "execution_count": 8
        }
      ]
    },
    {
      "cell_type": "code",
      "metadata": {
        "id": "kiuqjNiW0_wA",
        "outputId": "9dd727b6-ab35-4277-91f9-de95a2bc11a1"
      },
      "source": [
        "a[1:3]"
      ],
      "execution_count": null,
      "outputs": [
        {
          "output_type": "execute_result",
          "data": {
            "text/plain": [
              "array([22, 33])"
            ]
          },
          "metadata": {
            "tags": []
          },
          "execution_count": 10
        }
      ]
    },
    {
      "cell_type": "code",
      "metadata": {
        "id": "PgMFBizk0_wA",
        "outputId": "0ced99f6-30e6-4557-e8b8-bfbbe26b4f2e"
      },
      "source": [
        "a[[1,2]]"
      ],
      "execution_count": null,
      "outputs": [
        {
          "output_type": "execute_result",
          "data": {
            "text/plain": [
              "array([22, 33])"
            ]
          },
          "metadata": {
            "tags": []
          },
          "execution_count": 11
        }
      ]
    },
    {
      "cell_type": "code",
      "metadata": {
        "id": "WQU2DqS30_wA",
        "outputId": "1343e4ed-9ab5-4734-b8c3-caeacd334e1b"
      },
      "source": [
        "a"
      ],
      "execution_count": null,
      "outputs": [
        {
          "output_type": "execute_result",
          "data": {
            "text/plain": [
              "array([11, 22, 33, 44])"
            ]
          },
          "metadata": {
            "tags": []
          },
          "execution_count": 12
        }
      ]
    },
    {
      "cell_type": "code",
      "metadata": {
        "id": "HMhttdIZ0_wA",
        "outputId": "aad67319-fe51-4a1d-f268-8c530630190a"
      },
      "source": [
        "list(a)"
      ],
      "execution_count": null,
      "outputs": [
        {
          "output_type": "execute_result",
          "data": {
            "text/plain": [
              "[11, 22, 33, 44]"
            ]
          },
          "metadata": {
            "tags": []
          },
          "execution_count": 13
        }
      ]
    },
    {
      "cell_type": "code",
      "metadata": {
        "id": "eMRRXmMq0_wB"
      },
      "source": [
        "list(67)"
      ],
      "execution_count": null,
      "outputs": []
    },
    {
      "cell_type": "code",
      "metadata": {
        "id": "D6LpRzBk0_wB",
        "outputId": "b038f13e-0213-421e-d743-e01b4aac0d6a"
      },
      "source": [
        "list(67.8)"
      ],
      "execution_count": null,
      "outputs": [
        {
          "output_type": "error",
          "ename": "TypeError",
          "evalue": "'float' object is not iterable",
          "traceback": [
            "\u001b[1;31m---------------------------------------------------------------------------\u001b[0m",
            "\u001b[1;31mTypeError\u001b[0m                                 Traceback (most recent call last)",
            "\u001b[1;32m<ipython-input-15-c7e1acdcbc5b>\u001b[0m in \u001b[0;36m<module>\u001b[1;34m\u001b[0m\n\u001b[1;32m----> 1\u001b[1;33m \u001b[0mlist\u001b[0m\u001b[1;33m(\u001b[0m\u001b[1;36m67.8\u001b[0m\u001b[1;33m)\u001b[0m\u001b[1;33m\u001b[0m\u001b[1;33m\u001b[0m\u001b[0m\n\u001b[0m",
            "\u001b[1;31mTypeError\u001b[0m: 'float' object is not iterable"
          ]
        }
      ]
    },
    {
      "cell_type": "code",
      "metadata": {
        "id": "ok7tVyAu0_wB",
        "outputId": "210db15b-4d82-41eb-f35b-06e1a390e1fa"
      },
      "source": [
        "list(\"trht\")"
      ],
      "execution_count": null,
      "outputs": [
        {
          "output_type": "execute_result",
          "data": {
            "text/plain": [
              "['t', 'r', 'h', 't']"
            ]
          },
          "metadata": {
            "tags": []
          },
          "execution_count": 16
        }
      ]
    },
    {
      "cell_type": "code",
      "metadata": {
        "id": "ButIQt8L0_wB",
        "outputId": "443ba809-d433-4c1e-da26-5f9308b2214e"
      },
      "source": [
        "b=list(56)"
      ],
      "execution_count": null,
      "outputs": [
        {
          "output_type": "error",
          "ename": "TypeError",
          "evalue": "'int' object is not iterable",
          "traceback": [
            "\u001b[1;31m---------------------------------------------------------------------------\u001b[0m",
            "\u001b[1;31mTypeError\u001b[0m                                 Traceback (most recent call last)",
            "\u001b[1;32m<ipython-input-19-ac6a54edc67a>\u001b[0m in \u001b[0;36m<module>\u001b[1;34m\u001b[0m\n\u001b[1;32m----> 1\u001b[1;33m \u001b[0mb\u001b[0m\u001b[1;33m=\u001b[0m\u001b[0mlist\u001b[0m\u001b[1;33m(\u001b[0m\u001b[1;36m56\u001b[0m\u001b[1;33m)\u001b[0m\u001b[1;33m\u001b[0m\u001b[1;33m\u001b[0m\u001b[0m\n\u001b[0m",
            "\u001b[1;31mTypeError\u001b[0m: 'int' object is not iterable"
          ]
        }
      ]
    },
    {
      "cell_type": "code",
      "metadata": {
        "id": "uTNSMCWp0_wC",
        "outputId": "a5d49c7b-d9f1-4be3-b111-2e651e7ddaec"
      },
      "source": [
        "b"
      ],
      "execution_count": null,
      "outputs": [
        {
          "output_type": "execute_result",
          "data": {
            "text/plain": [
              "[56]"
            ]
          },
          "metadata": {
            "tags": []
          },
          "execution_count": 18
        }
      ]
    },
    {
      "cell_type": "markdown",
      "metadata": {
        "id": "mbssRI6U0_wC"
      },
      "source": [
        "# Replacing Values in a array"
      ]
    },
    {
      "cell_type": "code",
      "metadata": {
        "id": "ZtiqvKoA0_wC"
      },
      "source": [
        "1. In a array, you can only replace a single value with a single value\n",
        "2. In a array, you can only replace multiple values with the same number of multiple values"
      ],
      "execution_count": null,
      "outputs": []
    },
    {
      "cell_type": "code",
      "metadata": {
        "id": "Tk50ijYW0_wC",
        "outputId": "6d92e739-f965-4412-ddef-24bf31c38aa6"
      },
      "source": [
        "a"
      ],
      "execution_count": null,
      "outputs": [
        {
          "output_type": "execute_result",
          "data": {
            "text/plain": [
              "array([11, 22, 33, 44])"
            ]
          },
          "metadata": {
            "tags": []
          },
          "execution_count": 20
        }
      ]
    },
    {
      "cell_type": "code",
      "metadata": {
        "id": "EMZvkUjB0_wC",
        "outputId": "4cefef5b-79f5-44d2-93b6-31b79da244fe"
      },
      "source": [
        "a[3]"
      ],
      "execution_count": null,
      "outputs": [
        {
          "output_type": "execute_result",
          "data": {
            "text/plain": [
              "44"
            ]
          },
          "metadata": {
            "tags": []
          },
          "execution_count": 21
        }
      ]
    },
    {
      "cell_type": "code",
      "metadata": {
        "id": "2d-jT6i10_wD"
      },
      "source": [
        "a[3]=89"
      ],
      "execution_count": null,
      "outputs": []
    },
    {
      "cell_type": "code",
      "metadata": {
        "id": "L-U7_hvv0_wD",
        "outputId": "723be4b4-f7af-4d7c-d9a3-c5c3b38c45c9"
      },
      "source": [
        "a"
      ],
      "execution_count": null,
      "outputs": [
        {
          "output_type": "execute_result",
          "data": {
            "text/plain": [
              "array([11, 22, 33, 89])"
            ]
          },
          "metadata": {
            "tags": []
          },
          "execution_count": 23
        }
      ]
    },
    {
      "cell_type": "code",
      "metadata": {
        "id": "Ymiil0eK0_wD"
      },
      "source": [
        "a[3]=89.8"
      ],
      "execution_count": null,
      "outputs": []
    },
    {
      "cell_type": "code",
      "metadata": {
        "id": "Znz9Cw0c0_wD",
        "outputId": "f238690c-65e0-4b45-d8ef-50b002a1f9da"
      },
      "source": [
        "a"
      ],
      "execution_count": null,
      "outputs": [
        {
          "output_type": "execute_result",
          "data": {
            "text/plain": [
              "array([11, 22, 33, 89])"
            ]
          },
          "metadata": {
            "tags": []
          },
          "execution_count": 25
        }
      ]
    },
    {
      "cell_type": "code",
      "metadata": {
        "id": "sRCbApH10_wD"
      },
      "source": [
        "a[3]=\"abc\""
      ],
      "execution_count": null,
      "outputs": []
    },
    {
      "cell_type": "code",
      "metadata": {
        "id": "VKfTnl650_wE"
      },
      "source": [
        "a[3]=\"90\""
      ],
      "execution_count": null,
      "outputs": []
    },
    {
      "cell_type": "code",
      "metadata": {
        "id": "salulj6z0_wE",
        "outputId": "a875b0f0-7188-45f4-f79f-fba6477b540d"
      },
      "source": [
        "a"
      ],
      "execution_count": null,
      "outputs": [
        {
          "output_type": "execute_result",
          "data": {
            "text/plain": [
              "array([11, 22, 33, 90])"
            ]
          },
          "metadata": {
            "tags": []
          },
          "execution_count": 28
        }
      ]
    },
    {
      "cell_type": "code",
      "metadata": {
        "id": "vXg8uAuH0_wE",
        "outputId": "6a930380-cac2-4746-f750-519db20da546"
      },
      "source": [
        "a"
      ],
      "execution_count": null,
      "outputs": [
        {
          "output_type": "execute_result",
          "data": {
            "text/plain": [
              "array([11, 22, 33, 90])"
            ]
          },
          "metadata": {
            "tags": []
          },
          "execution_count": 29
        }
      ]
    },
    {
      "cell_type": "code",
      "metadata": {
        "id": "m0aFqhUT0_wE"
      },
      "source": [
        "a=np.array([11,22,33,44])"
      ],
      "execution_count": null,
      "outputs": []
    },
    {
      "cell_type": "code",
      "metadata": {
        "id": "fl5zm5tJ0_wF",
        "outputId": "ae2eca15-ddd2-4b8d-d870-3116986ee018"
      },
      "source": [
        "a"
      ],
      "execution_count": null,
      "outputs": [
        {
          "output_type": "execute_result",
          "data": {
            "text/plain": [
              "array([11, 22, 33, 44])"
            ]
          },
          "metadata": {
            "tags": []
          },
          "execution_count": 31
        }
      ]
    },
    {
      "cell_type": "code",
      "metadata": {
        "id": "e9qGx0wv0_wF",
        "outputId": "40383dbc-5ff5-41a4-9e4e-20cd7799cb50"
      },
      "source": [
        "a[[0,2]]"
      ],
      "execution_count": null,
      "outputs": [
        {
          "output_type": "execute_result",
          "data": {
            "text/plain": [
              "array([11, 33])"
            ]
          },
          "metadata": {
            "tags": []
          },
          "execution_count": 32
        }
      ]
    },
    {
      "cell_type": "code",
      "metadata": {
        "id": "2GqVrNUM0_wF"
      },
      "source": [
        "a[[0,2]]=[67,89]"
      ],
      "execution_count": null,
      "outputs": []
    },
    {
      "cell_type": "code",
      "metadata": {
        "id": "RLcwUCrS0_wG",
        "outputId": "2776bf61-50c7-497a-9af3-7c1fa290b1cb"
      },
      "source": [
        "a"
      ],
      "execution_count": null,
      "outputs": [
        {
          "output_type": "execute_result",
          "data": {
            "text/plain": [
              "array([67, 22, 89, 44])"
            ]
          },
          "metadata": {
            "tags": []
          },
          "execution_count": 35
        }
      ]
    },
    {
      "cell_type": "code",
      "metadata": {
        "id": "-Qm87u9Y0_wG"
      },
      "source": [
        "a=[67]"
      ],
      "execution_count": null,
      "outputs": []
    },
    {
      "cell_type": "code",
      "metadata": {
        "id": "mYTwdnA60_wG"
      },
      "source": [
        "a=[67,]"
      ],
      "execution_count": null,
      "outputs": []
    },
    {
      "cell_type": "code",
      "metadata": {
        "id": "dwnCCnmC0_wG",
        "outputId": "61186cb7-d891-4b58-e137-c254f85d5583"
      },
      "source": [
        "a"
      ],
      "execution_count": null,
      "outputs": [
        {
          "output_type": "execute_result",
          "data": {
            "text/plain": [
              "[67]"
            ]
          },
          "metadata": {
            "tags": []
          },
          "execution_count": 41
        }
      ]
    },
    {
      "cell_type": "code",
      "metadata": {
        "id": "i41Km0yC0_wG",
        "outputId": "3e573c3a-c5c1-4dcb-f459-8aadd6af2e46"
      },
      "source": [
        "len(a)"
      ],
      "execution_count": null,
      "outputs": [
        {
          "output_type": "execute_result",
          "data": {
            "text/plain": [
              "1"
            ]
          },
          "metadata": {
            "tags": []
          },
          "execution_count": 42
        }
      ]
    },
    {
      "cell_type": "code",
      "metadata": {
        "id": "w7b5p5tZ0_wH"
      },
      "source": [
        "a=(67,)"
      ],
      "execution_count": null,
      "outputs": []
    },
    {
      "cell_type": "code",
      "metadata": {
        "id": "cctfbAUe0_wH",
        "outputId": "55227c5d-0c4a-476a-f9a8-f1e0569200b7"
      },
      "source": [
        "a"
      ],
      "execution_count": null,
      "outputs": [
        {
          "output_type": "execute_result",
          "data": {
            "text/plain": [
              "(67,)"
            ]
          },
          "metadata": {
            "tags": []
          },
          "execution_count": 44
        }
      ]
    },
    {
      "cell_type": "code",
      "metadata": {
        "id": "NmX0-veH0_wH",
        "outputId": "4b9b2e34-4e22-4041-eb7b-6c15d2d6d6f4"
      },
      "source": [
        "len(a)"
      ],
      "execution_count": null,
      "outputs": [
        {
          "output_type": "execute_result",
          "data": {
            "text/plain": [
              "1"
            ]
          },
          "metadata": {
            "tags": []
          },
          "execution_count": 45
        }
      ]
    },
    {
      "cell_type": "code",
      "metadata": {
        "id": "x4cmnDqX0_wH"
      },
      "source": [
        "a=np.array([11,22,33,44])"
      ],
      "execution_count": null,
      "outputs": []
    },
    {
      "cell_type": "code",
      "metadata": {
        "id": "Bd9KzA210_wH"
      },
      "source": [
        "a[[0,2]]=[67,]"
      ],
      "execution_count": null,
      "outputs": []
    },
    {
      "cell_type": "code",
      "metadata": {
        "id": "l71W55pC0_wI",
        "outputId": "a9482792-975c-4391-91ef-a0220cac5cfe"
      },
      "source": [
        "np.array([1,2,3]) + np.array([4,5,6])"
      ],
      "execution_count": null,
      "outputs": [
        {
          "output_type": "execute_result",
          "data": {
            "text/plain": [
              "array([5, 7, 9])"
            ]
          },
          "metadata": {
            "tags": []
          },
          "execution_count": 48
        }
      ]
    },
    {
      "cell_type": "code",
      "metadata": {
        "id": "R6ydwQ1z0_wI"
      },
      "source": [
        "np.array([1,2,3]) + np.array([4,5])"
      ],
      "execution_count": null,
      "outputs": []
    },
    {
      "cell_type": "code",
      "metadata": {
        "id": "_Qp18lcN0_wI"
      },
      "source": [
        "Scalar value is a single value that is capable of mutating itself according to the needs in a array"
      ],
      "execution_count": null,
      "outputs": []
    },
    {
      "cell_type": "code",
      "metadata": {
        "id": "BbwAngO20_wI",
        "outputId": "4efa2884-a250-4f41-b550-8295fcab5ee9"
      },
      "source": [
        "np.array([1,2,3]) + np.array([4])"
      ],
      "execution_count": null,
      "outputs": [
        {
          "output_type": "execute_result",
          "data": {
            "text/plain": [
              "array([5, 6, 7])"
            ]
          },
          "metadata": {
            "tags": []
          },
          "execution_count": 50
        }
      ]
    },
    {
      "cell_type": "code",
      "metadata": {
        "id": "uCFCSbcs0_wI",
        "outputId": "850fe1db-de7e-4e7f-9c95-37c48d83025b"
      },
      "source": [
        "a"
      ],
      "execution_count": null,
      "outputs": [
        {
          "output_type": "execute_result",
          "data": {
            "text/plain": [
              "array([67, 22, 67, 44])"
            ]
          },
          "metadata": {
            "tags": []
          },
          "execution_count": 51
        }
      ]
    },
    {
      "cell_type": "code",
      "metadata": {
        "id": "9ZMS3zJx0_wJ"
      },
      "source": [
        "a=np.array([11,22,33,44])"
      ],
      "execution_count": null,
      "outputs": []
    },
    {
      "cell_type": "code",
      "metadata": {
        "id": "xRtWIG7q0_wJ"
      },
      "source": [
        "a[[0,2]]=[67,]"
      ],
      "execution_count": null,
      "outputs": []
    },
    {
      "cell_type": "code",
      "metadata": {
        "id": "Il7OQCMz0_wJ",
        "outputId": "f8e71cc0-078e-41df-a57d-e15d4d963149"
      },
      "source": [
        "a"
      ],
      "execution_count": null,
      "outputs": [
        {
          "output_type": "execute_result",
          "data": {
            "text/plain": [
              "array([67, 22, 67, 44])"
            ]
          },
          "metadata": {
            "tags": []
          },
          "execution_count": 54
        }
      ]
    },
    {
      "cell_type": "code",
      "metadata": {
        "id": "qzRTOnri0_wJ"
      },
      "source": [
        "a=np.array([11,22,33,44])"
      ],
      "execution_count": null,
      "outputs": []
    },
    {
      "cell_type": "code",
      "metadata": {
        "id": "LSpcValV0_wJ"
      },
      "source": [
        "a[[0,2]]=[67,67]"
      ],
      "execution_count": null,
      "outputs": []
    },
    {
      "cell_type": "code",
      "metadata": {
        "id": "Se9T9MFG0_wK",
        "outputId": "ec0434a3-da06-4cd3-c7a9-c3f28ddecb14"
      },
      "source": [
        "a"
      ],
      "execution_count": null,
      "outputs": [
        {
          "output_type": "execute_result",
          "data": {
            "text/plain": [
              "array([67, 22, 67, 44])"
            ]
          },
          "metadata": {
            "tags": []
          },
          "execution_count": 57
        }
      ]
    },
    {
      "cell_type": "code",
      "metadata": {
        "id": "Gp7btFRa0_wK"
      },
      "source": [
        "b=67,89"
      ],
      "execution_count": null,
      "outputs": []
    },
    {
      "cell_type": "code",
      "metadata": {
        "id": "J9h77h1q0_wK",
        "outputId": "0efa6c26-f1bf-424f-82d2-065e8251fab5"
      },
      "source": [
        "type(b)"
      ],
      "execution_count": null,
      "outputs": [
        {
          "output_type": "execute_result",
          "data": {
            "text/plain": [
              "tuple"
            ]
          },
          "metadata": {
            "tags": []
          },
          "execution_count": 59
        }
      ]
    },
    {
      "cell_type": "code",
      "metadata": {
        "id": "D78GFncT0_wK",
        "outputId": "935d4039-83a3-4c3d-bd46-12ba4fe00690"
      },
      "source": [
        "b"
      ],
      "execution_count": null,
      "outputs": [
        {
          "output_type": "execute_result",
          "data": {
            "text/plain": [
              "(67, 89)"
            ]
          },
          "metadata": {
            "tags": []
          },
          "execution_count": 60
        }
      ]
    },
    {
      "cell_type": "code",
      "metadata": {
        "id": "MOkE-QyH0_wK"
      },
      "source": [
        "a=np.array([11,22,33,44])"
      ],
      "execution_count": null,
      "outputs": []
    },
    {
      "cell_type": "code",
      "metadata": {
        "id": "ivLHfWXx0_wL"
      },
      "source": [
        "a[[1,2]]=[67,89]"
      ],
      "execution_count": null,
      "outputs": []
    },
    {
      "cell_type": "code",
      "metadata": {
        "id": "Xim15-Vj0_wL",
        "outputId": "61853671-4241-424b-a10a-3f876d4eb2cd"
      },
      "source": [
        "a"
      ],
      "execution_count": null,
      "outputs": [
        {
          "output_type": "execute_result",
          "data": {
            "text/plain": [
              "array([11, 67, 89, 44])"
            ]
          },
          "metadata": {
            "tags": []
          },
          "execution_count": 63
        }
      ]
    },
    {
      "cell_type": "code",
      "metadata": {
        "id": "lGMu--OO0_wL"
      },
      "source": [
        "a=np.array([11,22,33,44])"
      ],
      "execution_count": null,
      "outputs": []
    },
    {
      "cell_type": "code",
      "metadata": {
        "id": "C38_GFj90_wL"
      },
      "source": [
        "a[[1,2]]=67,89"
      ],
      "execution_count": null,
      "outputs": []
    },
    {
      "cell_type": "code",
      "metadata": {
        "id": "1GEBb4Cz0_wL",
        "outputId": "b50a9722-357d-4a22-b438-9bef6488f090"
      },
      "source": [
        "a"
      ],
      "execution_count": null,
      "outputs": [
        {
          "output_type": "execute_result",
          "data": {
            "text/plain": [
              "array([11, 67, 89, 44])"
            ]
          },
          "metadata": {
            "tags": []
          },
          "execution_count": 66
        }
      ]
    },
    {
      "cell_type": "code",
      "metadata": {
        "id": "iLUvk1az0_wM",
        "outputId": "f6d7b4cb-043e-4c77-9742-feedc329df5b"
      },
      "source": [
        "a"
      ],
      "execution_count": null,
      "outputs": [
        {
          "output_type": "execute_result",
          "data": {
            "text/plain": [
              "array([11, 67, 89, 44])"
            ]
          },
          "metadata": {
            "tags": []
          },
          "execution_count": 67
        }
      ]
    },
    {
      "cell_type": "code",
      "metadata": {
        "id": "j5Zi9Sel0_wM"
      },
      "source": [
        "a=np.array([11,22,33,44])"
      ],
      "execution_count": null,
      "outputs": []
    },
    {
      "cell_type": "code",
      "metadata": {
        "id": "yMZ6xTpv0_wM",
        "outputId": "bceb124b-eb91-437b-cd20-ef0dfff869cb"
      },
      "source": [
        "a"
      ],
      "execution_count": null,
      "outputs": [
        {
          "output_type": "execute_result",
          "data": {
            "text/plain": [
              "array([11, 22, 33, 44])"
            ]
          },
          "metadata": {
            "tags": []
          },
          "execution_count": 69
        }
      ]
    },
    {
      "cell_type": "code",
      "metadata": {
        "id": "TmPIg8zo0_wM",
        "outputId": "19f7191e-038d-4205-a778-1aa22140eac8"
      },
      "source": [
        "a[1:3]"
      ],
      "execution_count": null,
      "outputs": [
        {
          "output_type": "execute_result",
          "data": {
            "text/plain": [
              "array([22, 33])"
            ]
          },
          "metadata": {
            "tags": []
          },
          "execution_count": 70
        }
      ]
    },
    {
      "cell_type": "code",
      "metadata": {
        "id": "Pq_XHVcb0_wN"
      },
      "source": [
        "a[1:3]=67,89"
      ],
      "execution_count": null,
      "outputs": []
    },
    {
      "cell_type": "code",
      "metadata": {
        "id": "XguikXvx0_wN",
        "outputId": "1c2d121e-69a7-42f0-ce04-49375c101833"
      },
      "source": [
        "a"
      ],
      "execution_count": null,
      "outputs": [
        {
          "output_type": "execute_result",
          "data": {
            "text/plain": [
              "array([11, 67, 89, 44])"
            ]
          },
          "metadata": {
            "tags": []
          },
          "execution_count": 72
        }
      ]
    },
    {
      "cell_type": "code",
      "metadata": {
        "id": "JVVmhRje0_wN"
      },
      "source": [
        "a=np.array([11,22,33,44])"
      ],
      "execution_count": null,
      "outputs": []
    },
    {
      "cell_type": "code",
      "metadata": {
        "id": "HbZJX32p0_wN"
      },
      "source": [
        "a[[1,2]]=67"
      ],
      "execution_count": null,
      "outputs": []
    },
    {
      "cell_type": "code",
      "metadata": {
        "id": "oCrAGR3X0_wN",
        "outputId": "9e701991-664f-4539-818b-21e5af6b3521"
      },
      "source": [
        "a"
      ],
      "execution_count": null,
      "outputs": [
        {
          "output_type": "execute_result",
          "data": {
            "text/plain": [
              "array([11, 67, 67, 44])"
            ]
          },
          "metadata": {
            "tags": []
          },
          "execution_count": 77
        }
      ]
    },
    {
      "cell_type": "code",
      "metadata": {
        "id": "w8hAGmtf0_wN"
      },
      "source": [
        "a=np.array([11,22,33,44])"
      ],
      "execution_count": null,
      "outputs": []
    },
    {
      "cell_type": "code",
      "metadata": {
        "id": "Lny58e5f0_wO"
      },
      "source": [
        "a[[1,2]]=[67,67]"
      ],
      "execution_count": null,
      "outputs": []
    },
    {
      "cell_type": "code",
      "metadata": {
        "id": "nZQZiu5e0_wO",
        "outputId": "460176d0-adfd-4c4f-d7ad-ab508e511517"
      },
      "source": [
        "a"
      ],
      "execution_count": null,
      "outputs": [
        {
          "output_type": "execute_result",
          "data": {
            "text/plain": [
              "array([11, 67, 67, 44])"
            ]
          },
          "metadata": {
            "tags": []
          },
          "execution_count": 80
        }
      ]
    },
    {
      "cell_type": "code",
      "metadata": {
        "id": "xfhYRtuP0_wO",
        "outputId": "8056a684-915b-442b-bb37-27f06e2b26cf"
      },
      "source": [
        "a"
      ],
      "execution_count": null,
      "outputs": [
        {
          "output_type": "execute_result",
          "data": {
            "text/plain": [
              "array([11, 67, 67, 44])"
            ]
          },
          "metadata": {
            "tags": []
          },
          "execution_count": 81
        }
      ]
    },
    {
      "cell_type": "code",
      "metadata": {
        "id": "T-Zp_uzV0_wO"
      },
      "source": [
        "a=np.array([11,22,33,44])"
      ],
      "execution_count": null,
      "outputs": []
    },
    {
      "cell_type": "code",
      "metadata": {
        "id": "V83f1zif0_wO",
        "outputId": "4f935a70-105e-41be-c3dc-cbbfbc3b9e39"
      },
      "source": [
        "a.ndim"
      ],
      "execution_count": null,
      "outputs": [
        {
          "output_type": "execute_result",
          "data": {
            "text/plain": [
              "1"
            ]
          },
          "metadata": {
            "tags": []
          },
          "execution_count": 83
        }
      ]
    },
    {
      "cell_type": "markdown",
      "metadata": {
        "id": "jCOkYKsd0_wP"
      },
      "source": [
        "# One Dimensional Array"
      ]
    },
    {
      "cell_type": "code",
      "metadata": {
        "id": "_kds3wuD0_wP"
      },
      "source": [
        "a=np.array([\n",
        "    [1,2,3],\n",
        "    [4,5,6]\n",
        "])"
      ],
      "execution_count": null,
      "outputs": []
    },
    {
      "cell_type": "code",
      "metadata": {
        "id": "gvNGl-KT0_wP",
        "outputId": "661ad718-a3da-4fc0-f1c8-a3c486ae46a5"
      },
      "source": [
        "a.ndim"
      ],
      "execution_count": null,
      "outputs": [
        {
          "output_type": "execute_result",
          "data": {
            "text/plain": [
              "2"
            ]
          },
          "metadata": {
            "tags": []
          },
          "execution_count": 85
        }
      ]
    },
    {
      "cell_type": "code",
      "metadata": {
        "id": "TAwCxXWL0_wP"
      },
      "source": [
        "a=np.array([\n",
        "    [1,2,3],\n",
        "    [4,5,6],\n",
        "    [7,8,9],\n",
        "    [10,11,12]\n",
        "])"
      ],
      "execution_count": null,
      "outputs": []
    },
    {
      "cell_type": "code",
      "metadata": {
        "id": "uu9rb5Tb0_wQ",
        "outputId": "3e82ad13-de3a-4586-aca5-494fd5a54561"
      },
      "source": [
        "a.ndim"
      ],
      "execution_count": null,
      "outputs": [
        {
          "output_type": "execute_result",
          "data": {
            "text/plain": [
              "2"
            ]
          },
          "metadata": {
            "tags": []
          },
          "execution_count": 87
        }
      ]
    },
    {
      "cell_type": "code",
      "metadata": {
        "id": "tGoYbdeR0_wQ"
      },
      "source": [
        "a=np.array([\n",
        "    [1,2,3],\n",
        "    [4,5,6]\n",
        "])"
      ],
      "execution_count": null,
      "outputs": []
    },
    {
      "cell_type": "markdown",
      "metadata": {
        "id": "WBB3Xq5n0_wQ"
      },
      "source": [
        "# subset values from a 2d array"
      ]
    },
    {
      "cell_type": "code",
      "metadata": {
        "id": "RTxG_7_C0_wQ",
        "outputId": "506c309a-355f-410e-d8c3-fc1f659ea160"
      },
      "source": [
        "a"
      ],
      "execution_count": null,
      "outputs": [
        {
          "output_type": "execute_result",
          "data": {
            "text/plain": [
              "array([[1, 2, 3],\n",
              "       [4, 5, 6]])"
            ]
          },
          "metadata": {
            "tags": []
          },
          "execution_count": 89
        }
      ]
    },
    {
      "cell_type": "code",
      "metadata": {
        "id": "ZejUWvnm0_wQ"
      },
      "source": [
        "syntax for subsetting in a 1d array --- arrayReference[index]\n",
        "syntax for subsetting in a 2d array --- arrayreference[ row,column ]"
      ],
      "execution_count": null,
      "outputs": []
    },
    {
      "cell_type": "code",
      "metadata": {
        "id": "3CQQW-DO0_wR",
        "outputId": "a5c5c557-421b-4d41-bbef-b2e2cc6c401d"
      },
      "source": [
        "a"
      ],
      "execution_count": null,
      "outputs": [
        {
          "output_type": "execute_result",
          "data": {
            "text/plain": [
              "array([[1, 2, 3],\n",
              "       [4, 5, 6]])"
            ]
          },
          "metadata": {
            "tags": []
          },
          "execution_count": 90
        }
      ]
    },
    {
      "cell_type": "code",
      "metadata": {
        "id": "Lv0cAS310_wR",
        "outputId": "c8c43b2d-1d75-44ea-f2d0-e6bc912ad462"
      },
      "source": [
        "a[ 1,1 ]"
      ],
      "execution_count": null,
      "outputs": [
        {
          "output_type": "execute_result",
          "data": {
            "text/plain": [
              "5"
            ]
          },
          "metadata": {
            "tags": []
          },
          "execution_count": 91
        }
      ]
    },
    {
      "cell_type": "code",
      "metadata": {
        "id": "SWTynGq00_wT",
        "outputId": "d7767668-b0db-497e-e7a5-6a5e9f63c0a6"
      },
      "source": [
        "a[ 0,2 ]"
      ],
      "execution_count": null,
      "outputs": [
        {
          "output_type": "execute_result",
          "data": {
            "text/plain": [
              "3"
            ]
          },
          "metadata": {
            "tags": []
          },
          "execution_count": 92
        }
      ]
    },
    {
      "cell_type": "code",
      "metadata": {
        "id": "zVLA-OUd0_wU",
        "outputId": "6ef71e67-74d8-4490-9e53-63bc1edcd6b8"
      },
      "source": [
        "a[[0,1] ,[0,2] ]"
      ],
      "execution_count": null,
      "outputs": [
        {
          "output_type": "execute_result",
          "data": {
            "text/plain": [
              "array([1, 6])"
            ]
          },
          "metadata": {
            "tags": []
          },
          "execution_count": 93
        }
      ]
    },
    {
      "cell_type": "code",
      "metadata": {
        "id": "JDSDAf-00_wU",
        "outputId": "418ebd5c-7534-4669-ee63-6dcc2efd1fcf"
      },
      "source": [
        "a[[0,1,0,1] ,[0,0,2,2] ]"
      ],
      "execution_count": null,
      "outputs": [
        {
          "output_type": "execute_result",
          "data": {
            "text/plain": [
              "array([1, 4, 3, 6])"
            ]
          },
          "metadata": {
            "tags": []
          },
          "execution_count": 94
        }
      ]
    },
    {
      "cell_type": "markdown",
      "metadata": {
        "id": "iZO0l5ug0_wU"
      },
      "source": [
        "1. When we want to get multiple consecutive values from a list, we will have to use slicing.\n",
        "2. When we want to use slicing with indexes, then the value at the firstSpecifiedIndex is included, while the value at the last specified index is not included. SLicing will only include values uptil the index, that is previous to the LastSpecifiedIndex, that is closest to the lastSpecified index, and also it should be within the array\n",
        "3. If we leave out the FirstSpecifiedIndex, then python will assume that you want to start from the beginning. On the other hand, if you leave out the LastSpecifiedIndex, then python will assume that you want to go uptil the end"
      ]
    },
    {
      "cell_type": "code",
      "metadata": {
        "id": "m4qAKp-j0_wV",
        "outputId": "95ab8c45-3a51-4c7b-dcdc-dee2392dc14e"
      },
      "source": [
        "a"
      ],
      "execution_count": null,
      "outputs": [
        {
          "output_type": "execute_result",
          "data": {
            "text/plain": [
              "array([[1, 2, 3],\n",
              "       [4, 5, 6]])"
            ]
          },
          "metadata": {
            "tags": []
          },
          "execution_count": 95
        }
      ]
    },
    {
      "cell_type": "code",
      "metadata": {
        "id": "s5MNb3Bo0_wV"
      },
      "source": [
        "syntax for subsetting in a 2d array --- arrayreference[ row,column ]"
      ],
      "execution_count": null,
      "outputs": []
    },
    {
      "cell_type": "code",
      "metadata": {
        "id": "73Zj7wuc0_wV",
        "outputId": "5313f07b-7c95-4c14-b11c-6a4ac7569ab5"
      },
      "source": [
        "a[ : , 0:2]"
      ],
      "execution_count": null,
      "outputs": [
        {
          "output_type": "execute_result",
          "data": {
            "text/plain": [
              "array([[1, 2],\n",
              "       [4, 5]])"
            ]
          },
          "metadata": {
            "tags": []
          },
          "execution_count": 96
        }
      ]
    },
    {
      "cell_type": "code",
      "metadata": {
        "id": "uMGgabCj0_wV",
        "outputId": "e15dc209-b410-440d-bf8f-7f4568626e01"
      },
      "source": [
        "a[ 0:1, 0:2]"
      ],
      "execution_count": null,
      "outputs": [
        {
          "output_type": "execute_result",
          "data": {
            "text/plain": [
              "array([[1, 2]])"
            ]
          },
          "metadata": {
            "tags": []
          },
          "execution_count": 97
        }
      ]
    },
    {
      "cell_type": "code",
      "metadata": {
        "id": "AQu4BGbT0_wW",
        "outputId": "6058a59c-6fd9-4c0f-bd12-3652689d1ed3"
      },
      "source": [
        "a[ 0, 0:2]"
      ],
      "execution_count": null,
      "outputs": [
        {
          "output_type": "execute_result",
          "data": {
            "text/plain": [
              "array([1, 2])"
            ]
          },
          "metadata": {
            "tags": []
          },
          "execution_count": 98
        }
      ]
    },
    {
      "cell_type": "markdown",
      "metadata": {
        "id": "gY-XTlB90_wW"
      },
      "source": [
        "# Replace values in a 2d array"
      ]
    },
    {
      "cell_type": "code",
      "metadata": {
        "id": "PE1ZDvsV0_wW",
        "outputId": "349a8950-4c6a-4d3d-ae17-f64aae18648c"
      },
      "source": [
        "a"
      ],
      "execution_count": null,
      "outputs": [
        {
          "output_type": "execute_result",
          "data": {
            "text/plain": [
              "array([[1, 2, 3],\n",
              "       [4, 5, 6]])"
            ]
          },
          "metadata": {
            "tags": []
          },
          "execution_count": 99
        }
      ]
    },
    {
      "cell_type": "code",
      "metadata": {
        "id": "sW_8KcOQ0_wW",
        "outputId": "6dc6e9af-3a12-463c-81ee-dd3313840473"
      },
      "source": [
        "a"
      ],
      "execution_count": null,
      "outputs": [
        {
          "output_type": "execute_result",
          "data": {
            "text/plain": [
              "array([[1, 2, 3],\n",
              "       [4, 5, 6]])"
            ]
          },
          "metadata": {
            "tags": []
          },
          "execution_count": 100
        }
      ]
    },
    {
      "cell_type": "code",
      "metadata": {
        "id": "Mg7Kfahk0_wX",
        "outputId": "008e011d-2836-4858-fd65-efab820d21fe"
      },
      "source": [
        "a[ 1,2 ]"
      ],
      "execution_count": null,
      "outputs": [
        {
          "output_type": "execute_result",
          "data": {
            "text/plain": [
              "6"
            ]
          },
          "metadata": {
            "tags": []
          },
          "execution_count": 101
        }
      ]
    },
    {
      "cell_type": "code",
      "metadata": {
        "id": "Q32r4t8D0_wX"
      },
      "source": [
        "a[ 1,2 ]=600"
      ],
      "execution_count": null,
      "outputs": []
    },
    {
      "cell_type": "code",
      "metadata": {
        "id": "JIH4v_tM0_wX",
        "outputId": "3a84d821-2a73-45de-d71d-590ba79e818f"
      },
      "source": [
        "a"
      ],
      "execution_count": null,
      "outputs": [
        {
          "output_type": "execute_result",
          "data": {
            "text/plain": [
              "array([[  1,   2,   3],\n",
              "       [  4,   5, 600]])"
            ]
          },
          "metadata": {
            "tags": []
          },
          "execution_count": 103
        }
      ]
    },
    {
      "cell_type": "code",
      "metadata": {
        "id": "gY8mciPr0_wX"
      },
      "source": [
        "a=np.array([\n",
        "    [1,2,3],\n",
        "    [4,5,6]\n",
        "])"
      ],
      "execution_count": null,
      "outputs": []
    },
    {
      "cell_type": "code",
      "metadata": {
        "id": "yuWEjTYW0_wY",
        "outputId": "fddb649a-961e-4fc9-fa8a-4e2f2fd832e1"
      },
      "source": [
        "a"
      ],
      "execution_count": null,
      "outputs": [
        {
          "output_type": "execute_result",
          "data": {
            "text/plain": [
              "array([[1, 2, 3],\n",
              "       [4, 5, 6]])"
            ]
          },
          "metadata": {
            "tags": []
          },
          "execution_count": 105
        }
      ]
    },
    {
      "cell_type": "code",
      "metadata": {
        "id": "K35HHzTt0_wY"
      },
      "source": [
        "syntax for subsetting in a 2d array --- arrayreference[ row,column ]"
      ],
      "execution_count": null,
      "outputs": []
    },
    {
      "cell_type": "code",
      "metadata": {
        "id": "7OJNikzF0_wY",
        "outputId": "53af7860-eaa6-40be-a2a4-3fb79d889393"
      },
      "source": [
        "a[[0,1] , [2,0]]"
      ],
      "execution_count": null,
      "outputs": [
        {
          "output_type": "execute_result",
          "data": {
            "text/plain": [
              "array([3, 4])"
            ]
          },
          "metadata": {
            "tags": []
          },
          "execution_count": 106
        }
      ]
    },
    {
      "cell_type": "code",
      "metadata": {
        "id": "NVdZI5Uv0_wY"
      },
      "source": [
        "a[[0,1] , [2,0]]=[300,400,500]"
      ],
      "execution_count": null,
      "outputs": []
    },
    {
      "cell_type": "code",
      "metadata": {
        "id": "aMBXavS90_wZ"
      },
      "source": [
        "a[[0,1] , [2,0]]=[300,400]"
      ],
      "execution_count": null,
      "outputs": []
    },
    {
      "cell_type": "code",
      "metadata": {
        "id": "jhh2ZIZF0_wZ",
        "outputId": "3560b710-3c37-4d7e-bef6-ed996fdf2c92"
      },
      "source": [
        "a"
      ],
      "execution_count": null,
      "outputs": [
        {
          "output_type": "execute_result",
          "data": {
            "text/plain": [
              "array([[  1,   2, 300],\n",
              "       [400,   5,   6]])"
            ]
          },
          "metadata": {
            "tags": []
          },
          "execution_count": 110
        }
      ]
    },
    {
      "cell_type": "code",
      "metadata": {
        "id": "msi-UXnd0_wZ"
      },
      "source": [
        ""
      ],
      "execution_count": null,
      "outputs": []
    }
  ]
}